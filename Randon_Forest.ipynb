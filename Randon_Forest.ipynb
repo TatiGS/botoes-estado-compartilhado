{
  "nbformat": 4,
  "nbformat_minor": 0,
  "metadata": {
    "colab": {
      "provenance": [],
      "authorship_tag": "ABX9TyMcLcsUw40Y+dLp4g5XEbXI",
      "include_colab_link": true
    },
    "kernelspec": {
      "name": "python3",
      "display_name": "Python 3"
    },
    "language_info": {
      "name": "python"
    }
  },
  "cells": [
    {
      "cell_type": "markdown",
      "metadata": {
        "id": "view-in-github",
        "colab_type": "text"
      },
      "source": [
        "<a href=\"https://colab.research.google.com/github/TatianaGSilva7/botoes-estado-compartilhado/blob/main/Randon_Forest.ipynb\" target=\"_parent\"><img src=\"https://colab.research.google.com/assets/colab-badge.svg\" alt=\"Open In Colab\"/></a>"
      ]
    },
    {
      "cell_type": "code",
      "execution_count": 3,
      "metadata": {
        "id": "nutLkZ_F59-A"
      },
      "outputs": [],
      "source": [
        "from sklearn.datasets import make_moons\n",
        "from sklearn.model_selection import train_test_split\n",
        "from sklearn.tree import DecisionTreeClassifier\n",
        "from sklearn.ensemble import RandomForestClassifier\n",
        "from sklearn.metrics import accuracy_score"
      ]
    },
    {
      "cell_type": "code",
      "source": [
        "#1. GErar dataset artificial (2 luas com ruído)\n",
        "X, y = make_moons(n_samples=500, noise=0.3, random_state=42)\n",
        "\n",
        "#2.Separar treino e teste\n",
        "X_train, X_test, y_train, y_test = train_test_split(\n",
        "   X, y, test_size=0.3, random_state=42)\n",
        "\n",
        "#3. Decision Tree SEM limiar de profundidade ((overfitting)\n",
        "arvore = DecisionTreeClassifier(random_state=42)\n",
        "arvore.fit(X_train, y_train)\n",
        "y_pred_arvore = arvore.predict(X_test)\n",
        "\n",
        "#4. RAndom Forest\n",
        "floresta = RandomForestClassifier(n_estimators=100, random_state=42)\n",
        "floresta.fit(X_train, y_train)\n",
        "y_pred_floresta = floresta.predict(X_test)\n",
        "\n",
        "#5. Avaliar acuirácia\n",
        "print (\"Decision Tree - Treino: \", accuracy_score(y_train, arvore.predict(X_train)))\n",
        "print (\"Decision Tree - Teste: \", accuracy_score(y_test, y_pred_arvore))\n",
        "print (\"Random  forest - Treino: \", accuracy_score(y_train, floresta.predict(X_train)))\n",
        "print (\"Random  forest - Teste: \", accuracy_score(y_test, y_pred_floresta))\n",
        "\n",
        "\n"
      ],
      "metadata": {
        "colab": {
          "base_uri": "https://localhost:8080/"
        },
        "id": "N9bBtp696cbT",
        "outputId": "ca27780d-8609-465b-a2dc-4f09a85919e2"
      },
      "execution_count": 11,
      "outputs": [
        {
          "output_type": "stream",
          "name": "stdout",
          "text": [
            "Decision Tree - Treino:  1.0\n",
            "Decision Tree - Teste:  0.8533333333333334\n",
            "Random  forest - Treino:  1.0\n",
            "Random  forest - Teste:  0.9066666666666666\n"
          ]
        }
      ]
    }
  ]
}